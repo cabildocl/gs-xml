{
 "cells": [
  {
   "cell_type": "code",
   "execution_count": 47,
   "metadata": {},
   "outputs": [],
   "source": [
    "# Carga los usuarios que estan en el archivo users.csv\n",
    "import easygui\n",
    "import pandas as pd"
   ]
  },
  {
   "cell_type": "code",
   "execution_count": 50,
   "metadata": {},
   "outputs": [],
   "source": [
    "##Ventana para seleccionar archivo CSV\n",
    "easygui.msgbox(msg=\"Aplicacion de configuracion de telefonos GrandStream\", title=\"Julio Saldivar GS Config\", ok_button=\"Adelante\")\n",
    "FileName = easygui.fileopenbox(title = \"Seleccion su archivo\", filetypes=[\"*.csv\"])\n",
    "### Leemos el archivo con pandas\n",
    "df = pd.read_csv(FileName, skiprows=1)"
   ]
  },
  {
   "cell_type": "code",
   "execution_count": 55,
   "metadata": {},
   "outputs": [],
   "source": [
    "###\n",
    "# Esta funcion crea un archivo XML en base la informacion de dataframe\n",
    "# como punto importante la primera columna la toma como la direccion mac del dispositivo\n",
    "###\n",
    "def func(row):\n",
    "    xml = ['<?xml version=\"1.0\" ?>']\n",
    "    xml.append('<gs_provision version=\"1\">')\n",
    "    i=0\n",
    "    for field in row.index:\n",
    "        if i == 0:\n",
    "            xml.append('<mac>{1}</mac>'.format(field, row[field]))\n",
    "            mac = \"xml/\" + str(row[field]) + \".xml\"\n",
    "            xml.append('<config version=\"1\">')\n",
    "            i = i + 1\n",
    "        else:\n",
    "            xml.append('<{0}>{1}</{0}>'.format(field, row[field]))\n",
    "            i = i + 1\n",
    "    xml.append('</config>')\n",
    "    xml.append('</gs_provision>')\n",
    "    archivo = '\\n'.join(xml)\n",
    "    with open(mac, \"w\") as f:\n",
    "        f.write(archivo)\n",
    "    return print(\"Archivo para \" + str(mac) + \" creado exitosamente\")"
   ]
  },
  {
   "cell_type": "code",
   "execution_count": 56,
   "metadata": {},
   "outputs": [
    {
     "name": "stdout",
     "output_type": "stream",
     "text": [
      "Archivo para xml/000b824a4e78.xml creado exitosamente\n",
      "Archivo para xml/000b824a4d4b.xml creado exitosamente\n",
      "Archivo para xml/000b824a4d4x.xml creado exitosamente\n",
      "Archivo para xml/000b824a4d4z.xml creado exitosamente\n",
      "Archivo para xml/000b824a4e79.xml creado exitosamente\n",
      "Archivo para xml/001b824a4d4b.xml creado exitosamente\n",
      "Archivo para xml/001b824a4d4x.xml creado exitosamente\n",
      "Archivo para xml/001b824a4d4z.xml creado exitosamente\n",
      "Archivo para xml/000b824a4e80.xml creado exitosamente\n",
      "Archivo para xml/002b824a4d4b.xml creado exitosamente\n",
      "Archivo para xml/002b824a4d4x.xml creado exitosamente\n",
      "Archivo para xml/002b824a4d4z.xml creado exitosamente\n",
      "Archivo para xml/000b824a4e81.xml creado exitosamente\n",
      "Archivo para xml/003b824a4d4b.xml creado exitosamente\n",
      "Archivo para xml/003b824a4d4x.xml creado exitosamente\n",
      "Archivo para xml/003b824a4d4z.xml creado exitosamente\n",
      "Archivo para xml/000b824a4e82.xml creado exitosamente\n",
      "Archivo para xml/004b824a4d4b.xml creado exitosamente\n",
      "Archivo para xml/004b824a4d4x.xml creado exitosamente\n",
      "Archivo para xml/004b824a4d4z.xml creado exitosamente\n",
      "Archivo para xml/000b824a4e83.xml creado exitosamente\n",
      "Archivo para xml/005b824a4d4b.xml creado exitosamente\n",
      "Archivo para xml/005b824a4d4x.xml creado exitosamente\n",
      "Archivo para xml/005b824a4d4z.xml creado exitosamente\n",
      "Archivo para xml/000b824a4e84.xml creado exitosamente\n",
      "Archivo para xml/006b824a4d4b.xml creado exitosamente\n",
      "Archivo para xml/006b824a4d4x.xml creado exitosamente\n",
      "Archivo para xml/006b824a4d4z.xml creado exitosamente\n",
      "Archivo para xml/000b824a4e85.xml creado exitosamente\n",
      "Archivo para xml/007b824a4d4b.xml creado exitosamente\n",
      "Archivo para xml/007b824a4d4x.xml creado exitosamente\n",
      "Archivo para xml/007b824a4d4z.xml creado exitosamente\n",
      "Archivo para xml/000b824a4e86.xml creado exitosamente\n",
      "Archivo para xml/008b824a4d4b.xml creado exitosamente\n",
      "Archivo para xml/008b824a4d4x.xml creado exitosamente\n",
      "Archivo para xml/008b824a4d4z.xml creado exitosamente\n",
      "Archivo para xml/000b824a4e87.xml creado exitosamente\n",
      "Archivo para xml/009b824a4d4b.xml creado exitosamente\n",
      "Archivo para xml/009b824a4d4x.xml creado exitosamente\n",
      "Archivo para xml/009b824a4d4z.xml creado exitosamente\n",
      "Archivo para xml/000b824a4e88.xml creado exitosamente\n",
      "Archivo para xml/010b824a4d4b.xml creado exitosamente\n",
      "Archivo para xml/010b824a4d4x.xml creado exitosamente\n",
      "Archivo para xml/010b824a4d4z.xml creado exitosamente\n",
      "Archivo para xml/000b824a4e89.xml creado exitosamente\n",
      "Archivo para xml/011b824a4d4b.xml creado exitosamente\n",
      "Archivo para xml/011b824a4d4x.xml creado exitosamente\n",
      "Archivo para xml/011b824a4d4z.xml creado exitosamente\n",
      "Archivo para xml/000b824a4e90.xml creado exitosamente\n"
     ]
    },
    {
     "data": {
      "text/plain": [
       "0     None\n",
       "1     None\n",
       "2     None\n",
       "3     None\n",
       "4     None\n",
       "5     None\n",
       "6     None\n",
       "7     None\n",
       "8     None\n",
       "9     None\n",
       "10    None\n",
       "11    None\n",
       "12    None\n",
       "13    None\n",
       "14    None\n",
       "15    None\n",
       "16    None\n",
       "17    None\n",
       "18    None\n",
       "19    None\n",
       "20    None\n",
       "21    None\n",
       "22    None\n",
       "23    None\n",
       "24    None\n",
       "25    None\n",
       "26    None\n",
       "27    None\n",
       "28    None\n",
       "29    None\n",
       "30    None\n",
       "31    None\n",
       "32    None\n",
       "33    None\n",
       "34    None\n",
       "35    None\n",
       "36    None\n",
       "37    None\n",
       "38    None\n",
       "39    None\n",
       "40    None\n",
       "41    None\n",
       "42    None\n",
       "43    None\n",
       "44    None\n",
       "45    None\n",
       "46    None\n",
       "47    None\n",
       "48    None\n",
       "dtype: object"
      ]
     },
     "execution_count": 56,
     "metadata": {},
     "output_type": "execute_result"
    }
   ],
   "source": [
    "df.apply(func, axis=1)"
   ]
  },
  {
   "cell_type": "code",
   "execution_count": null,
   "metadata": {},
   "outputs": [],
   "source": []
  }
 ],
 "metadata": {
  "kernelspec": {
   "display_name": "Python 3",
   "language": "python",
   "name": "python3"
  },
  "language_info": {
   "codemirror_mode": {
    "name": "ipython",
    "version": 3
   },
   "file_extension": ".py",
   "mimetype": "text/x-python",
   "name": "python",
   "nbconvert_exporter": "python",
   "pygments_lexer": "ipython3",
   "version": "3.7.3"
  }
 },
 "nbformat": 4,
 "nbformat_minor": 2
}
